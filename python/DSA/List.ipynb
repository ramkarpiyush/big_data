{
 "cells": [
  {
   "cell_type": "code",
   "execution_count": 20,
   "id": "eff236cd",
   "metadata": {},
   "outputs": [
    {
     "name": "stdout",
     "output_type": "stream",
     "text": [
      "[[0, 0, 0], [0, 0, 1], [0, 1, 0], [0, 1, 1], [1, 0, 0], [1, 0, 1], [1, 1, 0]]\n"
     ]
    }
   ],
   "source": [
    "# Output: [[0, 0, 0], [0, 0, 1], [0, 1, 0], [1, 0, 0], [1, 1, 1]]\n",
    "\n",
    "x = 1\n",
    "y = 1\n",
    "z = 1\n",
    "n = 3\n",
    "\n",
    "out = []\n",
    "\n",
    "for i in range(x+1):\n",
    "    for j in range(y+1):\n",
    "        for k in range(z+1):\n",
    "            if i+j+k != n:\n",
    "                out.append([i, j, k])\n",
    "\n",
    "print(out)"
   ]
  },
  {
   "cell_type": "markdown",
   "id": "15d3943f",
   "metadata": {},
   "source": [
    "# Best Time to Buy and Sell Stock\n",
    "\n",
    "- Input: prices = [7,1,5,3,6,4]\n",
    "- Output: 5\n",
    "\n",
    "- Explanation: \n",
    "Buy on day 2 (price = 1) and sell on day 5 (price = 6), profit = 6-1 = 5.\n",
    "Note that buying on day 2 and selling on day 1 is not allowed because you must buy before you sell."
   ]
  },
  {
   "cell_type": "code",
   "execution_count": 21,
   "id": "09f7946a",
   "metadata": {},
   "outputs": [
    {
     "name": "stdout",
     "output_type": "stream",
     "text": [
      "4\n"
     ]
    }
   ],
   "source": [
    "# prices = [7,1,5,3,6,4]\n",
    "\n",
    "prices = [9, 7, 2, 3, 5, 6, 3, 5]\n",
    "\n",
    "buy = prices[0]         # start\n",
    "profit = 0\n",
    "\n",
    "for i in prices[1:]:\n",
    "    if i < buy:\n",
    "        buy = i\n",
    "    else:\n",
    "        profit = max(profit, i-buy)\n",
    "\n",
    "print(profit)"
   ]
  },
  {
   "cell_type": "code",
   "execution_count": 22,
   "id": "06362915",
   "metadata": {},
   "outputs": [
    {
     "data": {
      "text/plain": [
       "5"
      ]
     },
     "execution_count": 22,
     "metadata": {},
     "output_type": "execute_result"
    }
   ],
   "source": [
    "prices = [7,1,5,3,6,4]\n",
    "\n",
    "def max_profit(prices):\n",
    "    buy = prices[0]\n",
    "    profit = 0\n",
    "    for i in prices[1:]:\n",
    "        if i < buy:\n",
    "            buy = i\n",
    "        else:\n",
    "            profit = max(profit, i-buy)\n",
    "\n",
    "    return profit\n",
    "\n",
    "max_profit(prices)"
   ]
  },
  {
   "cell_type": "markdown",
   "id": "25bda64f",
   "metadata": {},
   "source": [
    "# Move Zeroes\n",
    "- Given an integer array nums, move all 0's to the end of it while maintaining the relative order of the non-zero elements.\n",
    "\n",
    "- Note that you must do this in-place without making a copy of the array."
   ]
  },
  {
   "cell_type": "code",
   "execution_count": 23,
   "id": "c80d82e0",
   "metadata": {},
   "outputs": [
    {
     "name": "stdout",
     "output_type": "stream",
     "text": [
      "[1, 3, 12, 0, 0]\n"
     ]
    }
   ],
   "source": [
    "# Input: \n",
    "nums = [0,1,0,3,12]\n",
    "\n",
    "# Output: [1,3,12,0,0]\n",
    "\n",
    "Non_zero_index = 0\n",
    "\n",
    "for i in nums:\n",
    "    if i != 0:\n",
    "        nums[Non_zero_index] = i\n",
    "        # print(\"Before increment: \", Non_zero_index)\n",
    "        Non_zero_index+=1\n",
    "        # print(\"After incremnet: \", Non_zero_index)\n",
    "\n",
    "for i in range(Non_zero_index, len(nums)):\n",
    "    nums[i] = 0\n",
    "\n",
    "\n",
    "print(nums)\n",
    "\n",
    "\n",
    "\n"
   ]
  },
  {
   "cell_type": "code",
   "execution_count": 24,
   "id": "94ecf70e",
   "metadata": {},
   "outputs": [
    {
     "name": "stdout",
     "output_type": "stream",
     "text": [
      "[1, 3, 12, 0, 0]\n"
     ]
    }
   ],
   "source": [
    "# Input: \n",
    "nums = [0,1,0,3,12]\n",
    "\n",
    "# Output: [1,3,12,0,0]\n",
    "\n",
    "Non_zero_index = 0\n",
    "\n",
    "for i in range(len(nums)):\n",
    "    if nums[i] != 0:\n",
    "        nums[Non_zero_index], nums[i] = nums[i], nums[Non_zero_index]\n",
    "        Non_zero_index += 1\n",
    "\n",
    "print(nums)"
   ]
  }
 ],
 "metadata": {
  "kernelspec": {
   "display_name": "Python 3",
   "language": "python",
   "name": "python3"
  },
  "language_info": {
   "codemirror_mode": {
    "name": "ipython",
    "version": 3
   },
   "file_extension": ".py",
   "mimetype": "text/x-python",
   "name": "python",
   "nbconvert_exporter": "python",
   "pygments_lexer": "ipython3",
   "version": "3.8.0"
  }
 },
 "nbformat": 4,
 "nbformat_minor": 5
}
