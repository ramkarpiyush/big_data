{
 "cells": [
  {
   "cell_type": "code",
   "execution_count": null,
   "id": "8afd7e80",
   "metadata": {},
   "outputs": [],
   "source": [
    "tupl\\\n",
    "    e = (1, 2, 32, 65, True, )"
   ]
  }
 ],
 "metadata": {
  "language_info": {
   "name": "python"
  }
 },
 "nbformat": 4,
 "nbformat_minor": 5
}
