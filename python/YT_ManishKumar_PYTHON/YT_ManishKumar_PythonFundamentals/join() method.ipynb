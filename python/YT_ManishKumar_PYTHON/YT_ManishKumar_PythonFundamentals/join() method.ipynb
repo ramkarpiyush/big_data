{
 "cells": [
  {
   "cell_type": "markdown",
   "id": "17f57e46",
   "metadata": {},
   "source": [
    "# join():\n",
    "- The join() method in Python is a string method used to concatenate a sequence of strings with a specified separator.\n",
    "- Syntax: separator.join(iterable)\n",
    "where, \n",
    "separator = A string that will be inserted between each element of the iterable.\n",
    "iterable = A sequence (like a list, tuple, or string) containing strings.\n",
    "- All elements in the iterable must be strings; otherwise, t will raise a TypeError."
   ]
  },
  {
   "cell_type": "code",
   "execution_count": 4,
   "id": "4389fe3a",
   "metadata": {},
   "outputs": [
    {
     "name": "stdout",
     "output_type": "stream",
     "text": [
      "Big Data Engineering\n"
     ]
    }
   ],
   "source": [
    "words = ['Big', 'Data', 'Engineering']\n",
    "\n",
    "res = ' '.join(words)\n",
    "print(res)"
   ]
  },
  {
   "cell_type": "code",
   "execution_count": 5,
   "id": "15843e19",
   "metadata": {},
   "outputs": [
    {
     "name": "stdout",
     "output_type": "stream",
     "text": [
      "SQL, Python, Spark, AWS\n"
     ]
    }
   ],
   "source": [
    "skills = ['SQL', 'Python', 'Spark', 'AWS']\n",
    "\n",
    "res = ', '.join(skills)\n",
    "print(res)"
   ]
  },
  {
   "cell_type": "code",
   "execution_count": null,
   "id": "fae45abf",
   "metadata": {},
   "outputs": [],
   "source": []
  }
 ],
 "metadata": {
  "kernelspec": {
   "display_name": "Python 3",
   "language": "python",
   "name": "python3"
  },
  "language_info": {
   "codemirror_mode": {
    "name": "ipython",
    "version": 3
   },
   "file_extension": ".py",
   "mimetype": "text/x-python",
   "name": "python",
   "nbconvert_exporter": "python",
   "pygments_lexer": "ipython3",
   "version": "3.8.0"
  }
 },
 "nbformat": 4,
 "nbformat_minor": 5
}
