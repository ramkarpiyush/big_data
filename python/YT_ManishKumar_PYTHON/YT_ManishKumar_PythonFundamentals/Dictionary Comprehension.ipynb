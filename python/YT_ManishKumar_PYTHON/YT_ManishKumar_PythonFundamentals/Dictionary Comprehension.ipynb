{
 "cells": [
  {
   "cell_type": "markdown",
   "id": "c4766e87",
   "metadata": {},
   "source": [
    "# Dictionary Comprehension"
   ]
  },
  {
   "cell_type": "code",
   "execution_count": 1,
   "id": "3b2f1bfa",
   "metadata": {},
   "outputs": [],
   "source": [
    "skills = {\"SQL\": 8, \"Python\": 7, \"Spark\": 6, \"AWS\": 5, \"Git\": 4, \"Power BI\": 3, \"Excel\": 5, \"Jira\": 4}"
   ]
  },
  {
   "cell_type": "code",
   "execution_count": 2,
   "id": "0a7e1ca0",
   "metadata": {},
   "outputs": [
    {
     "name": "stdout",
     "output_type": "stream",
     "text": [
      "{'SQL': 108, 'Python': 107, 'Spark': 106, 'AWS': 105, 'Git': 104, 'Power BI': 103, 'Excel': 105, 'Jira': 104}\n"
     ]
    }
   ],
   "source": [
    "skills = {key:skills.get(key)+100 \n",
    "          for key in skills}\n",
    "\n",
    "print(skills)"
   ]
  },
  {
   "cell_type": "code",
   "execution_count": 4,
   "id": "c3f5f8c3",
   "metadata": {},
   "outputs": [
    {
     "name": "stdout",
     "output_type": "stream",
     "text": [
      "{'SQL': 108, 'Python': 107, 'Spark': 106, 'AWS': 105, 'Git': 104, 'Power BI': 103, 'Excel': 105, 'Jira': 204}\n"
     ]
    }
   ],
   "source": [
    "skills = {key: skills.get(key)+100\n",
    "          if key == \"Jira\" else skills.get(key)          \n",
    "          for key in skills}\n",
    "\n",
    "print(skills)"
   ]
  },
  {
   "cell_type": "code",
   "execution_count": 7,
   "id": "cbdb95bc",
   "metadata": {},
   "outputs": [
    {
     "name": "stdout",
     "output_type": "stream",
     "text": [
      "{'B': 1, 'I': 3, 'G': 3, 'D': 1, 'A': 2, 'T': 1, 'E': 3, 'N': 3, 'R': 1}\n"
     ]
    }
   ],
   "source": [
    "name = \"Big Data Engineering\"\n",
    "\n",
    "alpha_cnt = {}\n",
    "\n",
    "for i in (name.replace(\" \", \"\")).upper():\n",
    "    if i in alpha_cnt:\n",
    "        alpha_cnt[i]+=1\n",
    "    else:\n",
    "        alpha_cnt[i]=1\n",
    "\n",
    "print(alpha_cnt)"
   ]
  },
  {
   "cell_type": "markdown",
   "id": "a8af5955",
   "metadata": {},
   "source": [
    "# Find Duplicates in List:\n",
    "    Return the elements that appear more than once.\n",
    "\n",
    "- Input: [1, 2, 2, 3, 4, 4]\n",
    "- Output: [2, 4]"
   ]
  },
  {
   "cell_type": "code",
   "execution_count": 49,
   "id": "aff19376",
   "metadata": {},
   "outputs": [
    {
     "name": "stdout",
     "output_type": "stream",
     "text": [
      "{1: 1, 2: 2, 3: 1, 4: 2} [2, 4]\n"
     ]
    }
   ],
   "source": [
    "input = [1, 2, 2, 3, 4, 4]\n",
    "\n",
    "output = {}\n",
    "\n",
    "duplicate = []\n",
    "\n",
    "for i in input:\n",
    "    if i not in output:\n",
    "        output[i] = 1\n",
    "    elif i in output:\n",
    "        output[i] += 1\n",
    "        duplicate.append(i)\n",
    "    else:\n",
    "        continue\n",
    "\n",
    "print(output, duplicate)\n"
   ]
  },
  {
   "cell_type": "code",
   "execution_count": 43,
   "id": "ab33c4b4",
   "metadata": {},
   "outputs": [
    {
     "name": "stdout",
     "output_type": "stream",
     "text": [
      "[2, 2]\n"
     ]
    }
   ],
   "source": [
    "out = {1: 1, 2: 2, 3: 1, 4: 2}\n",
    "\n",
    "out2 = [i for i in out.values() if i > 1]\n",
    "\n",
    "print(out2)"
   ]
  },
  {
   "cell_type": "code",
   "execution_count": 46,
   "id": "d17ef581",
   "metadata": {},
   "outputs": [
    {
     "name": "stdout",
     "output_type": "stream",
     "text": [
      "{2: 2, 4: 2}\n"
     ]
    }
   ],
   "source": [
    "filtered = {key: value \n",
    "            for key, value in out.items() \n",
    "            if value > 1}\n",
    "print(filtered)"
   ]
  },
  {
   "cell_type": "markdown",
   "id": "c4d31e11",
   "metadata": {},
   "source": [
    "# Most Frequent Element:\n",
    "    Find the most frequent number in a list\n",
    "- Input: [1, 3, 2, 3, 4, 3]\n",
    "- Output: 3\n"
   ]
  },
  {
   "cell_type": "code",
   "execution_count": null,
   "id": "9187d51e",
   "metadata": {},
   "outputs": [
    {
     "name": "stdout",
     "output_type": "stream",
     "text": [
      "{4: 1, 3: 1}\n",
      "[]\n",
      "{3: 2}\n",
      "{4: 1, 3: 1}\n"
     ]
    }
   ],
   "source": [
    "input = [1, 3, 2, 3, 4, 3]\n",
    "\n",
    "temp = {}\n",
    "out = []\n",
    "out_dic = {}\n",
    "\n",
    "for i in input:\n",
    "    if i not in temp:\n",
    "        temp[i]=1\n",
    "    else:\n",
    "        temp[i]+=1\n",
    "        # out.append(i)\n",
    "        out_dic[i] = temp[i]\n",
    "\n",
    "print(temp, out, out_dic, temp, sep=\"\\n\")\n"
   ]
  },
  {
   "cell_type": "code",
   "execution_count": 7,
   "id": "b3849007",
   "metadata": {},
   "outputs": [
    {
     "name": "stdout",
     "output_type": "stream",
     "text": [
      "3\n"
     ]
    }
   ],
   "source": [
    "frequent_ele = max(temp, key=temp.get)\n",
    "print(frequent_ele)"
   ]
  },
  {
   "cell_type": "code",
   "execution_count": null,
   "id": "66b218b1",
   "metadata": {},
   "outputs": [],
   "source": []
  }
 ],
 "metadata": {
  "kernelspec": {
   "display_name": "Python 3",
   "language": "python",
   "name": "python3"
  },
  "language_info": {
   "codemirror_mode": {
    "name": "ipython",
    "version": 3
   },
   "file_extension": ".py",
   "mimetype": "text/x-python",
   "name": "python",
   "nbconvert_exporter": "python",
   "pygments_lexer": "ipython3",
   "version": "3.8.0"
  }
 },
 "nbformat": 4,
 "nbformat_minor": 5
}
