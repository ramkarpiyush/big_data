{
 "cells": [
  {
   "cell_type": "markdown",
   "id": "a80bfaac",
   "metadata": {},
   "source": [
    "# A Set in Python is used to store a collection of items with the following properties:\n",
    "1. No duplicate elements. If try to insert the same item again, it overwrites previous one.\n",
    "2. An unordered collection. When we access all items, they are accessed without any specific order and we cannot access items using indexes as we do in lists.\n",
    "3. Internally use hashing that makes set efficient for search, insert and delete operations. It gives a major advantage over a list for problems with these operations.\n",
    "4. Mutable, meaning we can add or remove elements after their creation, the individual elements within the set cannot be changed directly."
   ]
  },
  {
   "cell_type": "code",
   "execution_count": 5,
   "id": "76e5e8dc",
   "metadata": {},
   "outputs": [
    {
     "data": {
      "text/plain": [
       "set"
      ]
     },
     "execution_count": 5,
     "metadata": {},
     "output_type": "execute_result"
    }
   ],
   "source": [
    "_set = {\"A\", \"B\", \"C\", \"D\", 1, 2, 3}\n",
    "type(_set)"
   ]
  },
  {
   "cell_type": "code",
   "execution_count": 6,
   "id": "d4ef8baf",
   "metadata": {},
   "outputs": [
    {
     "name": "stdout",
     "output_type": "stream",
     "text": [
      "{'D', 1, 2, 3, 'B', 'A', 'C'}\n"
     ]
    }
   ],
   "source": [
    "print(_set)"
   ]
  },
  {
   "cell_type": "code",
   "execution_count": 7,
   "id": "81378677",
   "metadata": {},
   "outputs": [
    {
     "name": "stdout",
     "output_type": "stream",
     "text": [
      "{1, 2, 3, 4, 5, 6}\n"
     ]
    }
   ],
   "source": [
    "# Sets automatically remove duplicates\n",
    "\n",
    "set_val = {1, 2, 3, 1, 4, 2, 5, 6}\n",
    "print(set_val)"
   ]
  },
  {
   "cell_type": "code",
   "execution_count": 8,
   "id": "b48c23e2",
   "metadata": {},
   "outputs": [
    {
     "data": {
      "text/plain": [
       "dict"
      ]
     },
     "execution_count": 8,
     "metadata": {},
     "output_type": "execute_result"
    }
   ],
   "source": [
    "set_variable = {}\n",
    "type(set_variable)"
   ]
  },
  {
   "cell_type": "code",
   "execution_count": 9,
   "id": "e124d248",
   "metadata": {},
   "outputs": [
    {
     "data": {
      "text/plain": [
       "set"
      ]
     },
     "execution_count": 9,
     "metadata": {},
     "output_type": "execute_result"
    }
   ],
   "source": [
    "set_variable = set()\n",
    "type(set_variable)"
   ]
  },
  {
   "cell_type": "code",
   "execution_count": 10,
   "id": "ed993e21",
   "metadata": {},
   "outputs": [
    {
     "data": {
      "text/plain": [
       "{1, 2, 3, 4, 7, 45, 65}"
      ]
     },
     "execution_count": 10,
     "metadata": {},
     "output_type": "execute_result"
    }
   ],
   "source": [
    "set_a = {1, 2, 3, 2, 45, 65, 3, 4, 7}\n",
    "set_a"
   ]
  },
  {
   "cell_type": "code",
   "execution_count": 11,
   "id": "eaec5670",
   "metadata": {},
   "outputs": [
    {
     "name": "stdout",
     "output_type": "stream",
     "text": [
      "65\n",
      "1\n",
      "2\n",
      "3\n",
      "4\n",
      "7\n",
      "45\n"
     ]
    }
   ],
   "source": [
    "for i in set_a:\n",
    "    print(i)"
   ]
  },
  {
   "cell_type": "code",
   "execution_count": 12,
   "id": "4d08cca4",
   "metadata": {},
   "outputs": [],
   "source": [
    "set_a = {1, 2, 7, 8, 4, 12}\n",
    "set_b =  {2, 4, 6, 5, 15}\n",
    "\n",
    "# Common elements b/w set_a & set_b: 2, 4\n",
    "# "
   ]
  },
  {
   "cell_type": "code",
   "execution_count": 13,
   "id": "ce42aac5",
   "metadata": {},
   "outputs": [
    {
     "data": {
      "text/plain": [
       "{1, 2, 4, 5, 6, 7, 8, 12, 15}"
      ]
     },
     "execution_count": 13,
     "metadata": {},
     "output_type": "execute_result"
    }
   ],
   "source": [
    "# Union\n",
    "set_a.union(set_b)"
   ]
  },
  {
   "cell_type": "code",
   "execution_count": 14,
   "id": "8dfde83d",
   "metadata": {},
   "outputs": [
    {
     "data": {
      "text/plain": [
       "{2, 4}"
      ]
     },
     "execution_count": 14,
     "metadata": {},
     "output_type": "execute_result"
    }
   ],
   "source": [
    "# Intersection\n",
    "\n",
    "set_a.intersection(set_b)"
   ]
  },
  {
   "cell_type": "code",
   "execution_count": 15,
   "id": "e4942290",
   "metadata": {},
   "outputs": [
    {
     "data": {
      "text/plain": [
       "False"
      ]
     },
     "execution_count": 15,
     "metadata": {},
     "output_type": "execute_result"
    }
   ],
   "source": [
    "set_a.isdisjoint(set_b)"
   ]
  },
  {
   "cell_type": "code",
   "execution_count": 16,
   "id": "6a9b7e4f",
   "metadata": {},
   "outputs": [],
   "source": [
    "set_a.add(45)"
   ]
  },
  {
   "cell_type": "code",
   "execution_count": 17,
   "id": "18cf8da5",
   "metadata": {},
   "outputs": [
    {
     "data": {
      "text/plain": [
       "{1, 2, 4, 7, 8, 12, 45}"
      ]
     },
     "execution_count": 17,
     "metadata": {},
     "output_type": "execute_result"
    }
   ],
   "source": [
    "set_a"
   ]
  },
  {
   "cell_type": "code",
   "execution_count": 18,
   "id": "7793d384",
   "metadata": {},
   "outputs": [
    {
     "data": {
      "text/plain": [
       "<function set.clear>"
      ]
     },
     "execution_count": 18,
     "metadata": {},
     "output_type": "execute_result"
    }
   ],
   "source": [
    "set_a.clear"
   ]
  },
  {
   "cell_type": "code",
   "execution_count": 19,
   "id": "a9046152",
   "metadata": {},
   "outputs": [
    {
     "data": {
      "text/plain": [
       "{1, 2, 4, 7, 8, 12, 45}"
      ]
     },
     "execution_count": 19,
     "metadata": {},
     "output_type": "execute_result"
    }
   ],
   "source": [
    "set_a"
   ]
  },
  {
   "cell_type": "code",
   "execution_count": 20,
   "id": "d3af5691",
   "metadata": {},
   "outputs": [],
   "source": [
    "set_a.remove(45)"
   ]
  },
  {
   "cell_type": "code",
   "execution_count": 21,
   "id": "bbbab4c2",
   "metadata": {},
   "outputs": [
    {
     "name": "stdout",
     "output_type": "stream",
     "text": [
      "{1, 2, 4, 7, 8, 12}\n"
     ]
    }
   ],
   "source": [
    "print(set_a)"
   ]
  },
  {
   "cell_type": "code",
   "execution_count": 22,
   "id": "510fa9cc",
   "metadata": {},
   "outputs": [],
   "source": [
    "set_a.discard(45)"
   ]
  },
  {
   "cell_type": "code",
   "execution_count": 23,
   "id": "3b1d79d1",
   "metadata": {},
   "outputs": [
    {
     "data": {
      "text/plain": [
       "{1, 2, 4, 7, 8}"
      ]
     },
     "execution_count": 23,
     "metadata": {},
     "output_type": "execute_result"
    }
   ],
   "source": [
    "set_a.discard(12)\n",
    "set_a"
   ]
  },
  {
   "cell_type": "code",
   "execution_count": null,
   "id": "2fc33bc8",
   "metadata": {},
   "outputs": [],
   "source": []
  }
 ],
 "metadata": {
  "kernelspec": {
   "display_name": "Python 3",
   "language": "python",
   "name": "python3"
  },
  "language_info": {
   "codemirror_mode": {
    "name": "ipython",
    "version": 3
   },
   "file_extension": ".py",
   "mimetype": "text/x-python",
   "name": "python",
   "nbconvert_exporter": "python",
   "pygments_lexer": "ipython3",
   "version": "3.8.0"
  }
 },
 "nbformat": 4,
 "nbformat_minor": 5
}
