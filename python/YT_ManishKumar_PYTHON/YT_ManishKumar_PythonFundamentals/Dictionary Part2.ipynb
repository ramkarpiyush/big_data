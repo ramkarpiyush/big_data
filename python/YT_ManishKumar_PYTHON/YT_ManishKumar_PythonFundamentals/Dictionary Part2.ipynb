{
 "cells": [
  {
   "cell_type": "code",
   "execution_count": 2,
   "id": "d7bd13c3",
   "metadata": {},
   "outputs": [
    {
     "name": "stdout",
     "output_type": "stream",
     "text": [
      "{'company': 'TechNova Solutions', 'location': 'Pune', 'departments': [{'name': 'Engineering', 'manager': 'Anita Desai', 'employees': [{'id': 101, 'name': 'Piyush Ramkar', 'role': 'Data Engineer', 'skills': ['Python', 'Spark', 'SQL'], 'contact': {'email': 'piyush@technova.com', 'phone': '+91-9876543210'}}, {'id': 102, 'name': 'Suresh Kumar', 'role': 'Backend Developer', 'skills': ['Java', 'Spring Boot', 'MySQL'], 'contact': {'email': 'suresh@technova.com', 'phone': '+91-9123456789'}}]}, {'name': 'HR', 'manager': 'Meera Nair', 'employees': [{'id': 201, 'name': 'Neha Joshi', 'role': 'HR Executive', 'skills': ['Recruitment', 'Excel', 'Communication'], 'contact': {'email': 'neha@technova.com', 'phone': '+91-9988776655'}}]}]}\n"
     ]
    }
   ],
   "source": [
    "import json\n",
    "\n",
    "with open(\"dpt_json.json\", \"r\") as file:\n",
    "    data = json.load(file)\n",
    "    print(data)"
   ]
  },
  {
   "cell_type": "code",
   "execution_count": 3,
   "id": "bb42caf2",
   "metadata": {},
   "outputs": [
    {
     "data": {
      "text/plain": [
       "[{'name': 'Engineering',\n",
       "  'manager': 'Anita Desai',\n",
       "  'employees': [{'id': 101,\n",
       "    'name': 'Piyush Ramkar',\n",
       "    'role': 'Data Engineer',\n",
       "    'skills': ['Python', 'Spark', 'SQL'],\n",
       "    'contact': {'email': 'piyush@technova.com', 'phone': '+91-9876543210'}},\n",
       "   {'id': 102,\n",
       "    'name': 'Suresh Kumar',\n",
       "    'role': 'Backend Developer',\n",
       "    'skills': ['Java', 'Spring Boot', 'MySQL'],\n",
       "    'contact': {'email': 'suresh@technova.com', 'phone': '+91-9123456789'}}]},\n",
       " {'name': 'HR',\n",
       "  'manager': 'Meera Nair',\n",
       "  'employees': [{'id': 201,\n",
       "    'name': 'Neha Joshi',\n",
       "    'role': 'HR Executive',\n",
       "    'skills': ['Recruitment', 'Excel', 'Communication'],\n",
       "    'contact': {'email': 'neha@technova.com', 'phone': '+91-9988776655'}}]}]"
      ]
     },
     "execution_count": 3,
     "metadata": {},
     "output_type": "execute_result"
    }
   ],
   "source": [
    "data[\"departments\"]"
   ]
  },
  {
   "cell_type": "code",
   "execution_count": 7,
   "id": "888dbb04",
   "metadata": {},
   "outputs": [
    {
     "ename": "TypeError",
     "evalue": "list indices must be integers or slices, not str",
     "output_type": "error",
     "traceback": [
      "\u001b[1;31m---------------------------------------------------------------------------\u001b[0m",
      "\u001b[1;31mTypeError\u001b[0m                                 Traceback (most recent call last)",
      "Cell \u001b[1;32mIn[7], line 1\u001b[0m\n\u001b[1;32m----> 1\u001b[0m \u001b[43mdata\u001b[49m\u001b[43m[\u001b[49m\u001b[38;5;124;43m\"\u001b[39;49m\u001b[38;5;124;43mdepartments\u001b[39;49m\u001b[38;5;124;43m\"\u001b[39;49m\u001b[43m]\u001b[49m\u001b[43m[\u001b[49m\u001b[38;5;124;43m\"\u001b[39;49m\u001b[38;5;124;43memployees\u001b[39;49m\u001b[38;5;124;43m\"\u001b[39;49m\u001b[43m]\u001b[49m\n",
      "\u001b[1;31mTypeError\u001b[0m: list indices must be integers or slices, not str"
     ]
    }
   ],
   "source": [
    "data[\"departments\"][\"employees\"]"
   ]
  },
  {
   "cell_type": "code",
   "execution_count": 11,
   "id": "00a58869",
   "metadata": {},
   "outputs": [
    {
     "data": {
      "text/plain": [
       "list"
      ]
     },
     "execution_count": 11,
     "metadata": {},
     "output_type": "execute_result"
    }
   ],
   "source": [
    "type(data[\"departments\"])"
   ]
  },
  {
   "cell_type": "code",
   "execution_count": 12,
   "id": "045ee37f",
   "metadata": {},
   "outputs": [
    {
     "name": "stdout",
     "output_type": "stream",
     "text": [
      "0\n",
      "1\n"
     ]
    }
   ],
   "source": [
    "for i in range(len(data[\"departments\"])):\n",
    "    print(i)\n"
   ]
  },
  {
   "cell_type": "code",
   "execution_count": 15,
   "id": "2a9c0c38",
   "metadata": {},
   "outputs": [
    {
     "name": "stdout",
     "output_type": "stream",
     "text": [
      "Engineering\n",
      "HR\n"
     ]
    }
   ],
   "source": [
    "for i in range(len(data[\"departments\"])):\n",
    "    print(data[\"departments\"][i][\"name\"])\n"
   ]
  },
  {
   "cell_type": "code",
   "execution_count": null,
   "id": "336b316c",
   "metadata": {},
   "outputs": [],
   "source": []
  }
 ],
 "metadata": {
  "kernelspec": {
   "display_name": "Python 3",
   "language": "python",
   "name": "python3"
  },
  "language_info": {
   "codemirror_mode": {
    "name": "ipython",
    "version": 3
   },
   "file_extension": ".py",
   "mimetype": "text/x-python",
   "name": "python",
   "nbconvert_exporter": "python",
   "pygments_lexer": "ipython3",
   "version": "3.8.0"
  }
 },
 "nbformat": 4,
 "nbformat_minor": 5
}
