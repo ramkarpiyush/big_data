{
 "cells": [
  {
   "cell_type": "markdown",
   "id": "787a3a4a",
   "metadata": {},
   "source": [
    "# with open() to read, write, and modify:"
   ]
  },
  {
   "cell_type": "markdown",
   "id": "d247bed2",
   "metadata": {},
   "source": [
    "- The with open() statement in Python is used to open a file safely and cleanly. \n",
    "- It handles opening and automatically closing the file — even if errors occur. \n",
    "- This avoids potential issues like memory leaks or files left open."
   ]
  },
  {
   "cell_type": "code",
   "execution_count": null,
   "id": "7b027794",
   "metadata": {},
   "outputs": [
    {
     "data": {
      "text/plain": [
       "\"\\nwith open('file_path', 'mode') as file:\\n    data = file.read()\\n\""
      ]
     },
     "execution_count": 1,
     "metadata": {},
     "output_type": "execute_result"
    }
   ],
   "source": [
    "# Basic Syntax:\n",
    "\"\"\"\n",
    "with open('file_path', 'mode') as file:         #\n",
    "    data = file.read()\n",
    "\n",
    "\"\"\""
   ]
  },
  {
   "cell_type": "code",
   "execution_count": null,
   "id": "8ad89a67",
   "metadata": {},
   "outputs": [],
   "source": [
    "# Open a File\n",
    "\"\"\"\n",
    "# The Basics: Open a file\n",
    "file = open(\"data.txt\", \"r\")           # 'r' means read mode\n",
    "content = file.read()\n",
    "file.close()                           # Always close the file!, or the file may stay open.\n",
    "print(content)\n",
    "\n",
    "\"\"\""
   ]
  },
  {
   "cell_type": "code",
   "execution_count": 3,
   "id": "61c855d9",
   "metadata": {},
   "outputs": [
    {
     "data": {
      "text/plain": [
       "\"\\nMode    Description\\n'r'\\t    Read (default mode)\\n'w'\\t    Write (overwrite if exists)\\n'a'\\t    Append (add to end of file)\\n'x'\\t    Create file, fail if exists\\n'b'\\t    Binary mode\\n't'\\t    Text mode (default)\\n'r+'\\tRead and write\\n\\n\""
      ]
     },
     "execution_count": 3,
     "metadata": {},
     "output_type": "execute_result"
    }
   ],
   "source": [
    "# Common File Modes\n",
    "\"\"\"\n",
    "Mode    Description\n",
    "'r'\t    Read (default mode)\n",
    "'w'\t    Write (overwrite if exists)\n",
    "'a'\t    Append (add to end of file)\n",
    "'x'\t    Create file, fail if exists\n",
    "'b'\t    Binary mode\n",
    "'t'\t    Text mode (default)\n",
    "'r+'\tRead and write\n",
    "\n",
    "\"\"\""
   ]
  },
  {
   "cell_type": "code",
   "execution_count": 11,
   "id": "d5e09e6b",
   "metadata": {},
   "outputs": [
    {
     "data": {
      "text/plain": [
       "\"\\n+------------------------+-----------------------------+---------------------------------------------+--------------------------+--------------------------------------------+\\n|      Operation         |        JSON (json)          |         CSV (csv / pandas)                  |      TXT (open)          |           Parquet (pandas)                |\\n+------------------------+-----------------------------+---------------------------------------------+--------------------------+--------------------------------------------+\\n| Read                   | json.load(f)                | csv.reader(f) / pd.read_csv()              | f.read()                 | pd.read_parquet()                         |\\n+------------------------+-----------------------------+---------------------------------------------+--------------------------+--------------------------------------------+\\n| Write (overwrite)      | json.dump(data, f)          | csv.writer(f) / df.to_csv()                | f.write(data)            | df.to_parquet()                           |\\n+------------------------+-----------------------------+---------------------------------------------+--------------------------+--------------------------------------------+\\n| Create file            | open('file.json', 'w')      | open('file.csv', 'w') / df.to_csv()        | open('file.txt', 'w')    | df.to_parquet()                           |\\n+------------------------+-----------------------------+---------------------------------------------+--------------------------+--------------------------------------------+\\n| Create if not exist    | open('file.json', 'x')      | open('file.csv', 'x')                      | open('file.txt', 'x')    | Check os.path.exists() before write       |\\n+------------------------+-----------------------------+---------------------------------------------+--------------------------+--------------------------------------------+\\n| Append                 | open('file.json', 'a')*     | open('file.csv', 'a') / df.to_csv(mode='a')| open('file.txt', 'a')    | Not supported — use concat + overwrite    |\\n+------------------------+-----------------------------+---------------------------------------------+--------------------------+--------------------------------------------+\\n\""
      ]
     },
     "execution_count": 11,
     "metadata": {},
     "output_type": "execute_result"
    }
   ],
   "source": [
    "\"\"\"\n",
    "+------------------------+-----------------------------+---------------------------------------------+--------------------------+--------------------------------------------+\n",
    "|      Operation         |        JSON (json)          |         CSV (csv / pandas)                  |      TXT (open)          |           Parquet (pandas)                |\n",
    "+------------------------+-----------------------------+---------------------------------------------+--------------------------+--------------------------------------------+\n",
    "| Read                   | json.load(f)                | csv.reader(f) / pd.read_csv()              | f.read()                 | pd.read_parquet()                         |\n",
    "+------------------------+-----------------------------+---------------------------------------------+--------------------------+--------------------------------------------+\n",
    "| Write (overwrite)      | json.dump(data, f)          | csv.writer(f) / df.to_csv()                | f.write(data)            | df.to_parquet()                           |\n",
    "+------------------------+-----------------------------+---------------------------------------------+--------------------------+--------------------------------------------+\n",
    "| Create file            | open('file.json', 'w')      | open('file.csv', 'w') / df.to_csv()        | open('file.txt', 'w')    | df.to_parquet()                           |\n",
    "+------------------------+-----------------------------+---------------------------------------------+--------------------------+--------------------------------------------+\n",
    "| Create if not exist    | open('file.json', 'x')      | open('file.csv', 'x')                      | open('file.txt', 'x')    | Check os.path.exists() before write       |\n",
    "+------------------------+-----------------------------+---------------------------------------------+--------------------------+--------------------------------------------+\n",
    "| Append                 | open('file.json', 'a')*     | open('file.csv', 'a') / df.to_csv(mode='a')| open('file.txt', 'a')    | Not supported — use concat + overwrite    |\n",
    "+------------------------+-----------------------------+---------------------------------------------+--------------------------+--------------------------------------------+\n",
    "\"\"\"\n"
   ]
  },
  {
   "cell_type": "markdown",
   "id": "221b7e22",
   "metadata": {},
   "source": [
    "# JSON file handling:"
   ]
  },
  {
   "cell_type": "code",
   "execution_count": null,
   "id": "e9d10844",
   "metadata": {},
   "outputs": [
    {
     "name": "stdout",
     "output_type": "stream",
     "text": [
      "{'company': 'TechNova Solutions', 'location': 'Pune', 'departments': [{'name': 'Engineering', 'manager': 'Anita Desai', 'employees': [{'id': 101, 'name': 'Piyush Ramkar', 'role': 'Data Engineer', 'skills': ['Python', 'Spark', 'SQL'], 'contact': {'email': 'piyush@technova.com', 'phone': '+91-9876543210'}}, {'id': 102, 'name': 'Suresh Kumar', 'role': 'Backend Developer', 'skills': ['Java', 'Spring Boot', 'MySQL'], 'contact': {'email': 'suresh@technova.com', 'phone': '+91-9123456789'}}]}, {'name': 'HR', 'manager': 'Meera Nair', 'employees': [{'id': 201, 'name': 'Neha Joshi', 'role': 'HR Executive', 'skills': ['Recruitment', 'Excel', 'Communication'], 'contact': {'email': 'neha@technova.com', 'phone': '+91-9988776655'}}]}]}\n"
     ]
    }
   ],
   "source": [
    "# Read JSON File:\n",
    "\n",
    "import json\n",
    "\n",
    "with open('dpt_json.json', 'r') as file:\n",
    "    df = json.load(file)\n",
    "    print(df)\n"
   ]
  },
  {
   "cell_type": "code",
   "execution_count": 12,
   "id": "bcc5a9df",
   "metadata": {},
   "outputs": [],
   "source": [
    "# Create empty JSON File:\n",
    "\n",
    "open('newfile.json', 'w').close()"
   ]
  },
  {
   "cell_type": "code",
   "execution_count": null,
   "id": "7b45940e",
   "metadata": {},
   "outputs": [
    {
     "data": {
      "text/plain": [
       "'\\nNote:\\n# indent=4 tells Python to:\\n1. Format the JSON output with 4 spaces for each level of indentation\\n2. Make the file human-readable\\n\\nWithout indent (compact form):\\n\\n'"
      ]
     },
     "execution_count": 16,
     "metadata": {},
     "output_type": "execute_result"
    }
   ],
   "source": [
    "# Write (Overwrite) JSON file\n",
    "\n",
    "import json\n",
    "\n",
    "data = {\"name\": \"Piyush\", \"age\": 30}\n",
    "\n",
    "with open(\"newfile.json\", \"w\") as file:\n",
    "    json.dump(data, file, indent=4)\n",
    "    \n",
    "\"\"\"\n",
    "Note:\n",
    "# indent=4 tells Python to:\n",
    "1. Format the JSON output with 4 spaces for each level of indentation\n",
    "2. Make the file human-readable\n",
    "\"\"\""
   ]
  },
  {
   "cell_type": "code",
   "execution_count": 17,
   "id": "8355c39f",
   "metadata": {},
   "outputs": [
    {
     "name": "stdout",
     "output_type": "stream",
     "text": [
      "{'name': 'Piyush', 'age': 30}\n"
     ]
    }
   ],
   "source": [
    "# Read newfile.json file:\n",
    "\n",
    "with open(\"newfile.json\", \"r\") as file:\n",
    "    res = json.load(file)\n",
    "    print(res)"
   ]
  },
  {
   "cell_type": "code",
   "execution_count": null,
   "id": "4e678cfb",
   "metadata": {},
   "outputs": [
    {
     "name": "stdout",
     "output_type": "stream",
     "text": [
      "{'name': 'Piyush', 'age': 30}\n"
     ]
    }
   ],
   "source": [
    "with open(\"new_json.json\", \"x\") as file:\n",
    "    json.dump(data, file, indent=4)\n",
    "\n",
    "with open(\"new_json.json\", \"r\") as file:\n",
    "    res = json.load(file)\n",
    "    print(res)"
   ]
  },
  {
   "cell_type": "code",
   "execution_count": 22,
   "id": "db242065",
   "metadata": {},
   "outputs": [
    {
     "name": "stdout",
     "output_type": "stream",
     "text": [
      "<_io.TextIOWrapper name='new3.json' mode='x' encoding='cp1252'>\n"
     ]
    }
   ],
   "source": [
    "with open(\"new3.json\", \"x\") as file:\n",
    "    print(file)\n"
   ]
  },
  {
   "cell_type": "code",
   "execution_count": 28,
   "id": "8b222e43",
   "metadata": {},
   "outputs": [],
   "source": [
    "import json\n",
    "\n",
    "data = {\"name\": \"Piyush\", \"age\": 30, \"weight\": 87.50}\n",
    "\n",
    "try:\n",
    "    with open(\"new2.json\", \"x\") as file:\n",
    "        json.dump(data, file, indent=4)\n",
    "except FileExistsError:\n",
    "    with open(\"new2.json\", \"r+\") as file:\n",
    "        json.dump(data, file, indent=4)\n",
    "\n"
   ]
  },
  {
   "cell_type": "code",
   "execution_count": null,
   "id": "2d5048a8",
   "metadata": {},
   "outputs": [],
   "source": []
  }
 ],
 "metadata": {
  "kernelspec": {
   "display_name": "Python 3",
   "language": "python",
   "name": "python3"
  },
  "language_info": {
   "codemirror_mode": {
    "name": "ipython",
    "version": 3
   },
   "file_extension": ".py",
   "mimetype": "text/x-python",
   "name": "python",
   "nbconvert_exporter": "python",
   "pygments_lexer": "ipython3",
   "version": "3.8.0"
  }
 },
 "nbformat": 4,
 "nbformat_minor": 5
}
