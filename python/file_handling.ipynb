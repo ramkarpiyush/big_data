{
 "cells": [
  {
   "cell_type": "markdown",
   "id": "787a3a4a",
   "metadata": {},
   "source": [
    "# with open() to read, write, and modify:"
   ]
  },
  {
   "cell_type": "markdown",
   "id": "d247bed2",
   "metadata": {},
   "source": [
    "- The with open() statement in Python is used to open a file safely and cleanly. \n",
    "- It handles opening and automatically closing the file — even if errors occur. \n",
    "- This avoids potential issues like memory leaks or files left open."
   ]
  },
  {
   "cell_type": "code",
   "execution_count": 1,
   "id": "7b027794",
   "metadata": {},
   "outputs": [
    {
     "data": {
      "text/plain": [
       "\"\\nwith open('file_path', 'mode') as file:\\n    data = file.read()\\n\""
      ]
     },
     "execution_count": 1,
     "metadata": {},
     "output_type": "execute_result"
    }
   ],
   "source": [
    "# Basic Syntax:\n",
    "\"\"\"\n",
    "with open('file_path', 'mode') as file:\n",
    "    data = file.read()\n",
    "\"\"\""
   ]
  },
  {
   "cell_type": "code",
   "execution_count": 3,
   "id": "61c855d9",
   "metadata": {},
   "outputs": [
    {
     "data": {
      "text/plain": [
       "\"\\nMode    Description\\n'r'\\t    Read (default mode)\\n'w'\\t    Write (overwrite if exists)\\n'a'\\t    Append (add to end of file)\\n'x'\\t    Create file, fail if exists\\n'b'\\t    Binary mode\\n't'\\t    Text mode (default)\\n'r+'\\tRead and write\\n\\n\""
      ]
     },
     "execution_count": 3,
     "metadata": {},
     "output_type": "execute_result"
    }
   ],
   "source": [
    "# Common File Modes\n",
    "\"\"\"\n",
    "Mode    Description\n",
    "'r'\t    Read (default mode)\n",
    "'w'\t    Write (overwrite if exists)\n",
    "'a'\t    Append (add to end of file)\n",
    "'x'\t    Create file, fail if exists\n",
    "'b'\t    Binary mode\n",
    "'t'\t    Text mode (default)\n",
    "'r+'\tRead and write\n",
    "\n",
    "\"\"\""
   ]
  },
  {
   "cell_type": "code",
   "execution_count": null,
   "id": "2a968d15",
   "metadata": {},
   "outputs": [],
   "source": []
  }
 ],
 "metadata": {
  "kernelspec": {
   "display_name": "Python 3",
   "language": "python",
   "name": "python3"
  },
  "language_info": {
   "codemirror_mode": {
    "name": "ipython",
    "version": 3
   },
   "file_extension": ".py",
   "mimetype": "text/x-python",
   "name": "python",
   "nbconvert_exporter": "python",
   "pygments_lexer": "ipython3",
   "version": "3.8.0"
  }
 },
 "nbformat": 4,
 "nbformat_minor": 5
}
