{
 "cells": [
  {
   "cell_type": "markdown",
   "id": "104273e1",
   "metadata": {},
   "source": [
    "https://www.linkedin.com/posts/pavan-somayaji-8927bb73_pybites-python-codinginterview-activity-7339292555940941825-TCHj?utm_source=share&utm_medium=member_desktop&rcm=ACoAABSadwoBcsI1PckuQJk8Efz6HSWpZPoMMEA"
   ]
  },
  {
   "cell_type": "code",
   "execution_count": 4,
   "id": "43021792",
   "metadata": {},
   "outputs": [
    {
     "name": "stdout",
     "output_type": "stream",
     "text": [
      "Surname\n"
     ]
    }
   ],
   "source": [
    "# 1. Find the last name from from full name \n",
    "full_name = \"Name Middle Surname\"\n",
    "\n",
    "_a = full_name.split()[-1]\n",
    "print(_a)"
   ]
  },
  {
   "cell_type": "code",
   "execution_count": 5,
   "id": "35fad05b",
   "metadata": {},
   "outputs": [
    {
     "name": "stdout",
     "output_type": "stream",
     "text": [
      "Spark\n"
     ]
    }
   ],
   "source": [
    "# 2. Find last word from a list\n",
    "list = [\"SQL\", \"Python\", \"Databricks\", \"AWS\", \"Spark\"]\n",
    "\n",
    "last_word = list[-1]\n",
    "print(last_word)"
   ]
  },
  {
   "cell_type": "code",
   "execution_count": 6,
   "id": "ad74d821",
   "metadata": {},
   "outputs": [
    {
     "name": "stdout",
     "output_type": "stream",
     "text": [
      "o\n",
      "a\n",
      "a\n",
      "i\n",
      "a\n",
      "a\n",
      "\n",
      "o\n",
      "\n",
      "a\n",
      "a\n",
      "i\n",
      "\n",
      "a\n",
      "\n",
      "a\n",
      "\n"
     ]
    }
   ],
   "source": [
    "# 3. Find vowels in each word from a list\n",
    "list = [\"SQL\", \"Python\", \"Databricks\", \"AWS\", \"Spark\"]\n",
    "vowels = \"aeiou\"\n",
    "\n",
    "# Method 1\n",
    "for i in list:\n",
    "    for k in i.lower():\n",
    "        if k in vowels:\n",
    "            print(k)\n",
    "        else:\n",
    "            pass\n",
    "\n",
    "# Method 2\n",
    "for i in list:\n",
    "    for alpha in i.lower():\n",
    "        if alpha in vowels:\n",
    "            print(alpha)\n",
    "\n",
    "    print()"
   ]
  },
  {
   "cell_type": "code",
   "execution_count": 7,
   "id": "c87cc8df",
   "metadata": {},
   "outputs": [
    {
     "name": "stdout",
     "output_type": "stream",
     "text": [
      "['LQS', 'nohtyP', 'skcirbataD', 'SWA', 'krapS']\n",
      "['LQS', 'nohtyP', 'skcirbataD', 'SWA', 'krapS']\n"
     ]
    }
   ],
   "source": [
    "# 4. Reverse each element in a list and make a new list\n",
    "list = [\"SQL\", \"Python\", \"Databricks\", \"AWS\", \"Spark\"]\n",
    "\n",
    "# Methos 1\n",
    "new_list = []\n",
    "for i in list:\n",
    "    new_list.append(i[::-1])\n",
    "\n",
    "print(new_list)\n",
    "\n",
    "# Method 2\n",
    "reversed_word = [i[::-1] for i in list]\n",
    "print(reversed_word)"
   ]
  },
  {
   "cell_type": "code",
   "execution_count": 8,
   "id": "91952b1b",
   "metadata": {},
   "outputs": [
    {
     "name": "stdout",
     "output_type": "stream",
     "text": [
      "i 1\n",
      "1 i\n",
      "[(1, 'i')]\n",
      "{'i': 1}\n",
      "{'i': 1}\n"
     ]
    }
   ],
   "source": [
    "# 5. Find a first vowel and its index\n",
    "word = \"Piyush\"\n",
    "vowels = \"aeiou\"\n",
    "\n",
    "# Method 1:\n",
    "for i in word.lower():\n",
    "    if i in vowels:\n",
    "        _index = word.index(i)\n",
    "        print(i, _index)\n",
    "        break\n",
    "        \n",
    "# Method 2:\n",
    "for i, j in enumerate(word):\n",
    "    if j in vowels:\n",
    "        print(i,j)\n",
    "        break\n",
    "\n",
    "# Method 3:\n",
    "word = \"Piyush\"\n",
    "vowels = \"aeiou\"\n",
    "list = []\n",
    "\n",
    "for i,j in enumerate(word):\n",
    "    if j in vowels:\n",
    "        list.append((i,j))\n",
    "        break\n",
    "print(list)\n",
    "\n",
    "# Method 4:\n",
    "word = \"Piyush\"\n",
    "vowels = \"aeiou\"\n",
    "dic = {}\n",
    "\n",
    "for i in range(len(word)):\n",
    "    alpha = word[i]\n",
    "    if alpha in vowels:\n",
    "        dic[alpha] = i\n",
    "        break\n",
    "\n",
    "print(dic)\n",
    "\n",
    "# Method 5:\n",
    "dic2 = {}\n",
    "for i in range(len(word)):\n",
    "    alpha = word[i]\n",
    "    if alpha in vowels:\n",
    "        if alpha in dic2:\n",
    "            dic2[alpha].append(i)\n",
    "        else:\n",
    "            dic2[alpha] = i\n",
    "        break\n",
    "\n",
    "print(dic2)"
   ]
  },
  {
   "cell_type": "code",
   "execution_count": 9,
   "id": "3563e656",
   "metadata": {},
   "outputs": [
    {
     "name": "stdout",
     "output_type": "stream",
     "text": [
      "{'Data': 3, 'is': 1, 'power.': 1, 'drives': 1, 'decisions.': 1, 'matters': 1}\n",
      "{'Data': 2, 'is': 2, 'a': 1, 'new': 1, 'oil,': 1, 'evrywhere': 1}\n"
     ]
    }
   ],
   "source": [
    "# 6. Find word in sentence and count repetitions\n",
    "sentence = \"Data is power. Data drives decisions. Data matters\"\n",
    "res = {}\n",
    "\n",
    "for i in sentence.split():\n",
    "    if i in res:\n",
    "        res[i] +=1\n",
    "    else:\n",
    "        res[i] = 1\n",
    "\n",
    "print(res)\n",
    "\n",
    "def word_count(sentence):\n",
    "    res = {}\n",
    "    for i in sentence.split():\n",
    "        if i in res:\n",
    "            res[i] += 1\n",
    "        else:\n",
    "            res[i] = 1\n",
    "    result = print(res)\n",
    "    return result\n",
    "\n",
    "word_count(\"Data is a new oil, Data is evrywhere\")"
   ]
  }
 ],
 "metadata": {
  "kernelspec": {
   "display_name": "Python 3",
   "language": "python",
   "name": "python3"
  },
  "language_info": {
   "codemirror_mode": {
    "name": "ipython",
    "version": 3
   },
   "file_extension": ".py",
   "mimetype": "text/x-python",
   "name": "python",
   "nbconvert_exporter": "python",
   "pygments_lexer": "ipython3",
   "version": "3.8.0"
  }
 },
 "nbformat": 4,
 "nbformat_minor": 5
}
