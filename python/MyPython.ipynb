{
 "cells": [
  {
   "cell_type": "code",
   "execution_count": 5,
   "id": "4aa04d6a",
   "metadata": {},
   "outputs": [
    {
     "name": "stdout",
     "output_type": "stream",
     "text": [
      "100025\n"
     ]
    }
   ],
   "source": [
    "input1 = [8, 3, 0, 87, 23, 17]\n",
    "\n",
    "input2 = [5, 5, 5, 5]\n",
    "\n",
    "input3 = [19]\n",
    "\n",
    "input4 = [12, 3, 111, 789, 100025, 898, 19933]\n",
    "\n",
    "print(max(input4))\n"
   ]
  },
  {
   "cell_type": "code",
   "execution_count": 22,
   "id": "d52dd22b",
   "metadata": {},
   "outputs": [
    {
     "name": "stdout",
     "output_type": "stream",
     "text": [
      "Digit\n"
     ]
    }
   ],
   "source": [
    "ch = '0'\n",
    "if ord(\"A\") <= ord(ch) <= ord(\"Z\"):\n",
    "    print(\"Uppercase\")\n",
    "elif ord(\"a\") <= ord(ch) <= ord(\"z\"):\n",
    "    print(\"Lowercase\")\n",
    "elif ord('0') <= ord(ch) <= ord('9'):\n",
    "    print(\"Digit\")\n",
    "else:\n",
    "    print(\"Special Character\")\n"
   ]
  }
 ],
 "metadata": {
  "kernelspec": {
   "display_name": "Python 3",
   "language": "python",
   "name": "python3"
  },
  "language_info": {
   "codemirror_mode": {
    "name": "ipython",
    "version": 3
   },
   "file_extension": ".py",
   "mimetype": "text/x-python",
   "name": "python",
   "nbconvert_exporter": "python",
   "pygments_lexer": "ipython3",
   "version": "3.8.0"
  }
 },
 "nbformat": 4,
 "nbformat_minor": 5
}
