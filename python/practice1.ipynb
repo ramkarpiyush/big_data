{
 "cells": [
  {
   "cell_type": "code",
   "execution_count": 1,
   "id": "3114625b",
   "metadata": {},
   "outputs": [
    {
     "name": "stdout",
     "output_type": "stream",
     "text": [
      "Hello\n"
     ]
    }
   ],
   "source": [
    "print(\"Hello\")"
   ]
  },
  {
   "cell_type": "code",
   "execution_count": 12,
   "id": "711a3db4",
   "metadata": {},
   "outputs": [],
   "source": [
    "from pyspark.sql import SparkSession\n",
    "from pyspark.sql.types import StructType, StructField, IntegerType, StringType, DoubleType, DateType\n",
    "from pyspark.sql.functions import sum\n",
    "\n",
    "# Step 1: Initialize Spark session\n",
    "spark = SparkSession.builder \\\n",
    "    .appName(\"SchemaFilteringAggregationExample\") \\\n",
    "    .getOrCreate()"
   ]
  },
  {
   "cell_type": "code",
   "execution_count": 13,
   "id": "16cc03e3",
   "metadata": {},
   "outputs": [],
   "source": [
    "# Step 2: Define schema\n",
    "schema = StructType([\n",
    "    StructField(\"id\", IntegerType(), True),\n",
    "    StructField(\"category\", StringType(), True),\n",
    "    StructField(\"amount\", DoubleType(), True),\n",
    "    StructField(\"date\", StringType(), True)\n",
    "])\n",
    "\n",
    "# Step 3: Sample data (you can replace this with spark.read.csv(...))\n",
    "data = [\n",
    "    (1, \"Electronics\", 1500.0, \"2024-06-01\"),\n",
    "    (2, \"Clothing\", 300.0, \"2024-06-02\"),\n",
    "    (3, \"Electronics\", 700.0, \"2024-06-02\"),\n",
    "    (4, \"Grocery\", 200.0, \"2024-06-03\"),\n",
    "    (5, \"Clothing\", 1200.0, \"2024-06-03\")\n",
    "]\n",
    "\n",
    "# Step 4: Create DataFrame with enforced schema\n",
    "df = spark.createDataFrame(data, schema=schema)\n"
   ]
  },
  {
   "cell_type": "code",
   "execution_count": 14,
   "id": "b3b0b0d6",
   "metadata": {},
   "outputs": [
    {
     "name": "stdout",
     "output_type": "stream",
     "text": [
      "+-----------+-----------+\n",
      "|   category|total_sales|\n",
      "+-----------+-----------+\n",
      "|Electronics|     2200.0|\n",
      "|   Clothing|     1200.0|\n",
      "+-----------+-----------+\n",
      "\n"
     ]
    }
   ],
   "source": [
    "# Step 5: Filter transactions with amount >= 500\n",
    "filtered_df = df.filter(df.amount >= 500)\n",
    "\n",
    "# Step 6: Aggregate total sales per category\n",
    "aggregated_df = filtered_df.groupBy(\"category\") \\\n",
    "    .agg(sum(\"amount\").alias(\"total_sales\"))\n",
    "\n",
    "# Step 7: Show results\n",
    "aggregated_df.show()\n",
    "\n",
    "# Optional: Stop Spark session\n",
    "spark.stop()"
   ]
  },
  {
   "cell_type": "code",
   "execution_count": null,
   "id": "2cac07ad",
   "metadata": {},
   "outputs": [],
   "source": []
  }
 ],
 "metadata": {
  "kernelspec": {
   "display_name": "Python 3",
   "language": "python",
   "name": "python3"
  },
  "language_info": {
   "codemirror_mode": {
    "name": "ipython",
    "version": 3
   },
   "file_extension": ".py",
   "mimetype": "text/x-python",
   "name": "python",
   "nbconvert_exporter": "python",
   "pygments_lexer": "ipython3",
   "version": "3.8.0"
  }
 },
 "nbformat": 4,
 "nbformat_minor": 5
}
