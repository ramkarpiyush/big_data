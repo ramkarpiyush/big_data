{
 "cells": [
  {
   "cell_type": "markdown",
   "id": "86acd1ef",
   "metadata": {},
   "source": [
    "# Dictionary:\n",
    "- A dictionary is a built-in data structure in Python used to store key-value pairs.\n",
    "* Key Characteristics:\n",
    "1. Unordered (pre-3.6):\tAs of Python 3.7+, maintains insertion order\n",
    "2. Mutable:\tYou can change, add, or delete items\n",
    "3. Keys are unique:\tNo duplicate keys allowed\n",
    "4. Values can be any type:\tStrings, numbers, lists, other dicts, etc."
   ]
  },
  {
   "cell_type": "code",
   "execution_count": 7,
   "id": "dca7fb9f",
   "metadata": {},
   "outputs": [
    {
     "data": {
      "text/plain": [
       "'+91-7620762076'"
      ]
     },
     "execution_count": 7,
     "metadata": {},
     "output_type": "execute_result"
    }
   ],
   "source": [
    "phone_numbers = { 'Piyush': '+91-9860986098',\n",
    "                      'Shivani': '+91-7620762076' }\n",
    "my_empty_dict = { }\n",
    "phone_numbers['Shivani']"
   ]
  },
  {
   "cell_type": "markdown",
   "id": "ec2844e1",
   "metadata": {},
   "source": [
    "# Access and delete a key-value pair:\n",
    "- let’s see how we can add and remove entries to an already existing one"
   ]
  },
  {
   "cell_type": "code",
   "execution_count": 8,
   "id": "9b814fe3",
   "metadata": {},
   "outputs": [
    {
     "data": {
      "text/plain": [
       "{'Piyush': '+91-9860986098',\n",
       " 'Shivani': '+91-7620762076',\n",
       " 'Akanksha': '+91-10101010'}"
      ]
     },
     "execution_count": 8,
     "metadata": {},
     "output_type": "execute_result"
    }
   ],
   "source": [
    "phone_numbers['Akanksha'] = '+91-10101010'\n",
    "phone_numbers"
   ]
  },
  {
   "cell_type": "code",
   "execution_count": 9,
   "id": "054dc38c",
   "metadata": {},
   "outputs": [
    {
     "data": {
      "text/plain": [
       "{'Shivani': '+91-7620762076', 'Akanksha': '+91-10101010'}"
      ]
     },
     "execution_count": 9,
     "metadata": {},
     "output_type": "execute_result"
    }
   ],
   "source": [
    "del(phone_numbers['Piyush'])\n",
    "phone_numbers\n"
   ]
  },
  {
   "cell_type": "markdown",
   "id": "4c4939a0",
   "metadata": {},
   "source": [
    "# Default values and dict.get():\n",
    "- The get() method is used to safely retrieve values from a dictionary\n",
    "-  If the key exists, it returns the value. If the key does not exist, it returns a default value (or None) instead of throwing an error.\n",
    "- Synatx: \n",
    "dict.get(key, default_value)\n",
    "\n",
    "where,\n",
    "key: the key you want to look up\n",
    "default_value: (optional) the value to return if the key is not found\n",
    "If default_value is not provided, it returns None by default"
   ]
  },
  {
   "cell_type": "code",
   "execution_count": 12,
   "id": "bcb9ca28",
   "metadata": {},
   "outputs": [
    {
     "name": "stdout",
     "output_type": "stream",
     "text": [
      "80\n",
      "None\n"
     ]
    }
   ],
   "source": [
    "config = { 'host': 'example.org' }\n",
    "print(config.get('port', 80))\n",
    "print(config.get('schema'))"
   ]
  },
  {
   "cell_type": "code",
   "execution_count": 14,
   "id": "ad489287",
   "metadata": {},
   "outputs": [
    {
     "name": "stdout",
     "output_type": "stream",
     "text": [
      "production\n",
      "30\n"
     ]
    }
   ],
   "source": [
    "config = {\"mode\": \"production\"}\n",
    "\n",
    "mode = config.get(\"mode\", \"development\")  # Uses 'production'\n",
    "print(mode)\n",
    "timeout = config.get(\"timeout\", 30)       # Uses 30 as default\n",
    "print(timeout)\n"
   ]
  },
  {
   "cell_type": "markdown",
   "id": "2610fd55",
   "metadata": {},
   "source": [
    "# Overwrite dictionary entries:\n",
    "- To overwrite an entry, simply assign a new value to it. You don’t need to del() it first."
   ]
  },
  {
   "cell_type": "code",
   "execution_count": 15,
   "id": "2f113049",
   "metadata": {},
   "outputs": [
    {
     "data": {
      "text/plain": [
       "{'Shivani': '+91-7620762076', 'Akanksha': '+91-10101010'}"
      ]
     },
     "execution_count": 15,
     "metadata": {},
     "output_type": "execute_result"
    }
   ],
   "source": [
    "phone_numbers"
   ]
  },
  {
   "cell_type": "code",
   "execution_count": 16,
   "id": "38372fd3",
   "metadata": {},
   "outputs": [
    {
     "name": "stdout",
     "output_type": "stream",
     "text": [
      "{'Shivani': '+91-7620762076', 'Akanksha': '+91-10101010', 'Piyush': '+91-9867986798'}\n"
     ]
    }
   ],
   "source": [
    "phone_numbers['Piyush'] = '+91-9867986798'\n",
    "print(phone_numbers)"
   ]
  },
  {
   "cell_type": "markdown",
   "id": "0160f35e",
   "metadata": {},
   "source": [
    "Instead of checking before accessing the key (which is LBYL: \"Look Before You Leap\"), you can use try...except:\n",
    "\n",
    "\n",
    "| Style                            | Example             | Description                         |\n",
    "| -------------------------------- | ------------------- | ----------------------------------- |\n",
    "| LBYL (Look Before You Leap)      | `if \"key\" in dict:` | Check first, then access            |\n",
    "| EAFP (Easier to Ask Forgiveness) | `try: dict[key]`    | Just try, catch exception if needed |\n"
   ]
  },
  {
   "cell_type": "code",
   "execution_count": 18,
   "id": "8dbe2af2",
   "metadata": {},
   "outputs": [
    {
     "name": "stdout",
     "output_type": "stream",
     "text": [
      "Akshat's number is not found.\n"
     ]
    }
   ],
   "source": [
    "try:\n",
    "    print(phone_numbers[\"Akshat\"])\n",
    "except KeyError:\n",
    "    print(\"Akshat's number is not found.\")\n"
   ]
  },
  {
   "cell_type": "code",
   "execution_count": null,
   "id": "25266bf3",
   "metadata": {},
   "outputs": [],
   "source": []
  }
 ],
 "metadata": {
  "kernelspec": {
   "display_name": "Python 3",
   "language": "python",
   "name": "python3"
  },
  "language_info": {
   "codemirror_mode": {
    "name": "ipython",
    "version": 3
   },
   "file_extension": ".py",
   "mimetype": "text/x-python",
   "name": "python",
   "nbconvert_exporter": "python",
   "pygments_lexer": "ipython3",
   "version": "3.8.0"
  }
 },
 "nbformat": 4,
 "nbformat_minor": 5
}
