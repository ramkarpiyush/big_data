{
 "cells": [
  {
   "cell_type": "markdown",
   "id": "86acd1ef",
   "metadata": {},
   "source": [
    "# Dictionary:\n",
    "- A dictionary is a built-in data structure in Python used to store key-value pairs.\n",
    "* Key Characteristics:\n",
    "1. Unordered (pre-3.6):\tAs of Python 3.7+, maintains insertion order\n",
    "2. Mutable:\tYou can change, add, or delete items\n",
    "3. Keys are unique:\tNo duplicate keys allowed\n",
    "4. Values can be any type:\tStrings, numbers, lists, other dicts, etc."
   ]
  },
  {
   "cell_type": "code",
   "execution_count": 13,
   "id": "dca7fb9f",
   "metadata": {},
   "outputs": [
    {
     "data": {
      "text/plain": [
       "'+91-7620762076'"
      ]
     },
     "execution_count": 13,
     "metadata": {},
     "output_type": "execute_result"
    }
   ],
   "source": [
    "phone_numbers = { 'Piyush': '+91-9860986098',\n",
    "                      'Shivani': '+91-7620762076' }\n",
    "my_empty_dict = { }\n",
    "phone_numbers['Shivani']"
   ]
  },
  {
   "cell_type": "markdown",
   "id": "ec2844e1",
   "metadata": {},
   "source": [
    "# Access and delete a key-value pair:\n",
    "- let’s see how we can add and remove entries to an already existing one"
   ]
  },
  {
   "cell_type": "code",
   "execution_count": 14,
   "id": "9b814fe3",
   "metadata": {},
   "outputs": [
    {
     "data": {
      "text/plain": [
       "{'Piyush': '+91-9860986098',\n",
       " 'Shivani': '+91-7620762076',\n",
       " 'Akanksha': '+91-10101010'}"
      ]
     },
     "execution_count": 14,
     "metadata": {},
     "output_type": "execute_result"
    }
   ],
   "source": [
    "phone_numbers['Akanksha'] = '+91-10101010'\n",
    "phone_numbers"
   ]
  },
  {
   "cell_type": "code",
   "execution_count": 15,
   "id": "054dc38c",
   "metadata": {},
   "outputs": [
    {
     "data": {
      "text/plain": [
       "{'Piyush': '+91-9860986098',\n",
       " 'Shivani': '+91-7620762076',\n",
       " 'Akanksha': '+91-10101010'}"
      ]
     },
     "execution_count": 15,
     "metadata": {},
     "output_type": "execute_result"
    }
   ],
   "source": [
    "# del(phone_numbers['Piyush'])\n",
    "phone_numbers\n"
   ]
  },
  {
   "cell_type": "markdown",
   "id": "4c4939a0",
   "metadata": {},
   "source": [
    "# Default values and dict.get():\n",
    "- The get() method is used to safely retrieve values from a dictionary\n",
    "-  If the key exists, it returns the value. If the key does not exist, it returns a default value (or None) instead of throwing an error.\n",
    "- Synatx: \n",
    "dict.get(key, default_value)\n",
    "\n",
    "where,\n",
    "key: the key you want to look up\n",
    "default_value: (optional) the value to return if the key is not found\n",
    "If default_value is not provided, it returns None by default"
   ]
  },
  {
   "cell_type": "code",
   "execution_count": 16,
   "id": "bcb9ca28",
   "metadata": {},
   "outputs": [
    {
     "name": "stdout",
     "output_type": "stream",
     "text": [
      "80\n",
      "None\n"
     ]
    }
   ],
   "source": [
    "config = { 'host': 'example.org' }\n",
    "print(config.get('port', 80))\n",
    "print(config.get('schema'))"
   ]
  },
  {
   "cell_type": "code",
   "execution_count": 17,
   "id": "ad489287",
   "metadata": {},
   "outputs": [
    {
     "name": "stdout",
     "output_type": "stream",
     "text": [
      "production\n",
      "30\n"
     ]
    }
   ],
   "source": [
    "config = {\"mode\": \"production\"}\n",
    "\n",
    "mode = config.get(\"mode\", \"development\")  # Uses 'production'\n",
    "print(mode)\n",
    "timeout = config.get(\"timeout\", 30)       # Uses 30 as default\n",
    "print(timeout)\n"
   ]
  },
  {
   "cell_type": "markdown",
   "id": "2610fd55",
   "metadata": {},
   "source": [
    "# Overwrite dictionary entries:\n",
    "- To overwrite an entry, simply assign a new value to it. You don’t need to del() it first."
   ]
  },
  {
   "cell_type": "code",
   "execution_count": 18,
   "id": "2f113049",
   "metadata": {},
   "outputs": [
    {
     "data": {
      "text/plain": [
       "{'Piyush': '+91-9860986098',\n",
       " 'Shivani': '+91-7620762076',\n",
       " 'Akanksha': '+91-10101010'}"
      ]
     },
     "execution_count": 18,
     "metadata": {},
     "output_type": "execute_result"
    }
   ],
   "source": [
    "phone_numbers"
   ]
  },
  {
   "cell_type": "code",
   "execution_count": 19,
   "id": "38372fd3",
   "metadata": {},
   "outputs": [
    {
     "name": "stdout",
     "output_type": "stream",
     "text": [
      "{'Piyush': '+91-9867986798', 'Shivani': '+91-7620762076', 'Akanksha': '+91-10101010'}\n"
     ]
    }
   ],
   "source": [
    "phone_numbers['Piyush'] = '+91-9867986798'\n",
    "print(phone_numbers)"
   ]
  },
  {
   "cell_type": "markdown",
   "id": "0160f35e",
   "metadata": {},
   "source": [
    "# Using try… except:\n",
    "- Instead of checking before accessing the key (which is LBYL: \"Look Before You Leap\"), you can use try...except:\n",
    "\n",
    "\n",
    "| Style                            | Example             | Description                         |\n",
    "| -------------------------------- | ------------------- | ----------------------------------- |\n",
    "| LBYL (Look Before You Leap)      | `if \"key\" in dict:` | Check first, then access            |\n",
    "| EAFP (Easier to Ask Forgiveness) | `try: dict[key]`    | Just try, catch exception if needed |\n"
   ]
  },
  {
   "cell_type": "code",
   "execution_count": 20,
   "id": "8dbe2af2",
   "metadata": {},
   "outputs": [
    {
     "name": "stdout",
     "output_type": "stream",
     "text": [
      "Akshat's number is not found.\n"
     ]
    }
   ],
   "source": [
    "try:\n",
    "    print(phone_numbers[\"Akshat\"])\n",
    "except KeyError:\n",
    "    print(\"Akshat's number is not found.\")\n"
   ]
  },
  {
   "cell_type": "code",
   "execution_count": 21,
   "id": "25266bf3",
   "metadata": {},
   "outputs": [
    {
     "name": "stdout",
     "output_type": "stream",
     "text": [
      "True\n",
      "200\n"
     ]
    }
   ],
   "source": [
    "a = { 'sub_dict': { 'b': True },\n",
    "          'mylist': [100, 200, 300] }\n",
    "\n",
    "res1 = a['sub_dict']['b']\n",
    "\n",
    "res2 = a['mylist'][1]\n",
    "\n",
    "print(res1)\n",
    "print(res2)"
   ]
  },
  {
   "cell_type": "code",
   "execution_count": 22,
   "id": "1505f880",
   "metadata": {},
   "outputs": [
    {
     "data": {
      "text/plain": [
       "'Eric'"
      ]
     },
     "execution_count": 22,
     "metadata": {},
     "output_type": "execute_result"
    }
   ],
   "source": [
    "runners = { 1000: 'Jack', 1001: 'Eric', \n",
    "                1002: 'Lisa' }\n",
    "runners[1001]"
   ]
  },
  {
   "cell_type": "markdown",
   "id": "fc018bf1",
   "metadata": {},
   "source": [
    "# Using dict.fromkeys:\n",
    "- The dict.fromkeys(keys, value) method creates a new dictionary, based on the list of keys supplied to it. \n",
    "- The value of all elements will be set to the supplied value, or None by default, if you don’t supply a value."
   ]
  },
  {
   "cell_type": "code",
   "execution_count": 36,
   "id": "6ce04c4f",
   "metadata": {},
   "outputs": [
    {
     "data": {
      "text/plain": [
       "{'Piyush': None, 'Shivani': None, 'Akanksha': None}"
      ]
     },
     "execution_count": 36,
     "metadata": {},
     "output_type": "execute_result"
    }
   ],
   "source": [
    "name = ['Piyush', 'Shivani', 'Akanksha']\n",
    "\n",
    "dict = dict.fromkeys(name, None)\n",
    "\n",
    "dict\n"
   ]
  },
  {
   "cell_type": "code",
   "execution_count": 37,
   "id": "ef8708a0",
   "metadata": {},
   "outputs": [
    {
     "name": "stdout",
     "output_type": "stream",
     "text": [
      "{'name': 'Piyush', 'age': 30, 'city': 'Pune'}\n"
     ]
    }
   ],
   "source": [
    "person = {\n",
    "    \"name\": \"Piyush\",\n",
    "    \"age\": 30,\n",
    "    \"city\": \"Pune\"\n",
    "}\n",
    "print(person)\n"
   ]
  },
  {
   "cell_type": "code",
   "execution_count": 38,
   "id": "cfb3d400",
   "metadata": {},
   "outputs": [],
   "source": [
    "person[\"Gender\"]= \"M\""
   ]
  },
  {
   "cell_type": "code",
   "execution_count": 39,
   "id": "a609fe09",
   "metadata": {},
   "outputs": [
    {
     "data": {
      "text/plain": [
       "{'name': 'Piyush', 'age': 30, 'city': 'Pune', 'Gender': 'M'}"
      ]
     },
     "execution_count": 39,
     "metadata": {},
     "output_type": "execute_result"
    }
   ],
   "source": [
    "person"
   ]
  },
  {
   "cell_type": "code",
   "execution_count": 40,
   "id": "c5342789",
   "metadata": {},
   "outputs": [
    {
     "ename": "KeyError",
     "evalue": "'gender'",
     "output_type": "error",
     "traceback": [
      "\u001b[1;31m---------------------------------------------------------------------------\u001b[0m",
      "\u001b[1;31mKeyError\u001b[0m                                  Traceback (most recent call last)",
      "Cell \u001b[1;32mIn[40], line 1\u001b[0m\n\u001b[1;32m----> 1\u001b[0m \u001b[38;5;28;01mdel\u001b[39;00m(person[\u001b[38;5;124m'\u001b[39m\u001b[38;5;124mgender\u001b[39m\u001b[38;5;124m'\u001b[39m])\n",
      "\u001b[1;31mKeyError\u001b[0m: 'gender'"
     ]
    }
   ],
   "source": [
    "del(person['gender'])"
   ]
  },
  {
   "cell_type": "code",
   "execution_count": null,
   "id": "94762abe",
   "metadata": {},
   "outputs": [
    {
     "data": {
      "text/plain": [
       "{'name': 'Piyush', 'age': 30, 'city': 'Pune', 'Gender': 'M'}"
      ]
     },
     "execution_count": 30,
     "metadata": {},
     "output_type": "execute_result"
    }
   ],
   "source": [
    "person"
   ]
  },
  {
   "cell_type": "code",
   "execution_count": null,
   "id": "1021c1af",
   "metadata": {},
   "outputs": [
    {
     "data": {
      "text/plain": [
       "dict_keys(['name', 'age', 'city', 'Gender'])"
      ]
     },
     "execution_count": 35,
     "metadata": {},
     "output_type": "execute_result"
    }
   ],
   "source": [
    "person.keys()"
   ]
  },
  {
   "cell_type": "code",
   "execution_count": null,
   "id": "afbb7d0e",
   "metadata": {},
   "outputs": [
    {
     "data": {
      "text/plain": [
       "dict_values(['Piyush', 30, 'Pune', 'M'])"
      ]
     },
     "execution_count": 34,
     "metadata": {},
     "output_type": "execute_result"
    }
   ],
   "source": [
    "person.values()"
   ]
  },
  {
   "cell_type": "code",
   "execution_count": null,
   "id": "d9ec9e8d",
   "metadata": {},
   "outputs": [
    {
     "data": {
      "text/plain": [
       "dict_items([('name', 'Piyush'), ('age', 30), ('city', 'Pune'), ('Gender', 'M')])"
      ]
     },
     "execution_count": 33,
     "metadata": {},
     "output_type": "execute_result"
    }
   ],
   "source": [
    "person.items()"
   ]
  },
  {
   "cell_type": "markdown",
   "id": "d7a7a045",
   "metadata": {},
   "source": [
    "<!-- Iterate Dictionary -->"
   ]
  },
  {
   "cell_type": "markdown",
   "id": "a14b74b8",
   "metadata": {},
   "source": [
    "# Iterate Dictionary:"
   ]
  },
  {
   "cell_type": "code",
   "execution_count": 42,
   "id": "cec78ebb",
   "metadata": {},
   "outputs": [
    {
     "name": "stdout",
     "output_type": "stream",
     "text": [
      "name\n",
      "age\n",
      "city\n",
      "Gender\n"
     ]
    }
   ],
   "source": [
    "for keys in person:\n",
    "    print(keys)"
   ]
  },
  {
   "cell_type": "code",
   "execution_count": 43,
   "id": "97c377e7",
   "metadata": {},
   "outputs": [
    {
     "name": "stdout",
     "output_type": "stream",
     "text": [
      "name\n",
      "age\n",
      "city\n",
      "Gender\n"
     ]
    }
   ],
   "source": [
    "for i in person:\n",
    "    print(i)"
   ]
  },
  {
   "cell_type": "code",
   "execution_count": 44,
   "id": "4331b5fd",
   "metadata": {},
   "outputs": [
    {
     "name": "stdout",
     "output_type": "stream",
     "text": [
      "name Piyush\n",
      "age 30\n",
      "city Pune\n",
      "Gender M\n"
     ]
    }
   ],
   "source": [
    "for i in person:\n",
    "    print(i, person[i])"
   ]
  },
  {
   "cell_type": "code",
   "execution_count": 47,
   "id": "cfa3841e",
   "metadata": {},
   "outputs": [
    {
     "name": "stdout",
     "output_type": "stream",
     "text": [
      "name Piyush\n",
      "age 30\n",
      "city Pune\n",
      "Gender M\n"
     ]
    }
   ],
   "source": [
    "for key, value in person.items():\n",
    "    print(key, value)"
   ]
  },
  {
   "cell_type": "markdown",
   "id": "c5f07c39",
   "metadata": {},
   "source": [
    "# Read Json file in Python:"
   ]
  },
  {
   "cell_type": "code",
   "execution_count": null,
   "id": "714df052",
   "metadata": {},
   "outputs": [
    {
     "name": "stdout",
     "output_type": "stream",
     "text": [
      "Current Working Directory: d:\\GitLocal\\big_data\\python\\YT_ManishKumar_PythonFundamentals\n",
      "['1 readme.txt', '2 String Formatting Logging  Escape Sequence.py', '3 Python Logging.py', '4 Operators.py', '5 List Part1.py', '6 List Part2.py', 'Dictionary.ipynb', 'dpt_json.json', 'For loop.py', 'list comprehension.py', 'While Loop Part1.py', 'While Loop Part2.ipynb']\n"
     ]
    }
   ],
   "source": [
    "# Check for the current working directory (path):\n",
    "\n",
    "import os\n",
    "\n",
    "current_path = os.getcwd()\n",
    "print(\"Current Working Directory:\", current_path)\n",
    "\n",
    "print(os.listdir())\n"
   ]
  },
  {
   "cell_type": "code",
   "execution_count": null,
   "id": "2e954afc",
   "metadata": {},
   "outputs": [
    {
     "name": "stdout",
     "output_type": "stream",
     "text": [
      "{'company': 'TechNova Solutions', 'location': 'Pune', 'departments': [{'name': 'Engineering', 'manager': 'Anita Desai', 'employees': [{'id': 101, 'name': 'Piyush Ramkar', 'role': 'Data Engineer', 'skills': ['Python', 'Spark', 'SQL'], 'contact': {'email': 'piyush@technova.com', 'phone': '+91-9876543210'}}, {'id': 102, 'name': 'Suresh Kumar', 'role': 'Backend Developer', 'skills': ['Java', 'Spring Boot', 'MySQL'], 'contact': {'email': 'suresh@technova.com', 'phone': '+91-9123456789'}}]}, {'name': 'HR', 'manager': 'Meera Nair', 'employees': [{'id': 201, 'name': 'Neha Joshi', 'role': 'HR Executive', 'skills': ['Recruitment', 'Excel', 'Communication'], 'contact': {'email': 'neha@technova.com', 'phone': '+91-9988776655'}}]}]}\n"
     ]
    }
   ],
   "source": [
    "# Read a JSON file:\n",
    "\n",
    "import json\n",
    "with open('dpt_json.json', 'r') as file:\n",
    "    data = json.load(file)\n",
    "\n",
    "print(data)"
   ]
  },
  {
   "cell_type": "code",
   "execution_count": 54,
   "id": "2f831fae",
   "metadata": {},
   "outputs": [
    {
     "name": "stdout",
     "output_type": "stream",
     "text": [
      "[{'name': 'Engineering', 'manager': 'Anita Desai', 'employees': [{'id': 101, 'name': 'Piyush Ramkar', 'role': 'Data Engineer', 'skills': ['Python', 'Spark', 'SQL'], 'contact': {'email': 'piyush@technova.com', 'phone': '+91-9876543210'}}, {'id': 102, 'name': 'Suresh Kumar', 'role': 'Backend Developer', 'skills': ['Java', 'Spring Boot', 'MySQL'], 'contact': {'email': 'suresh@technova.com', 'phone': '+91-9123456789'}}]}, {'name': 'HR', 'manager': 'Meera Nair', 'employees': [{'id': 201, 'name': 'Neha Joshi', 'role': 'HR Executive', 'skills': ['Recruitment', 'Excel', 'Communication'], 'contact': {'email': 'neha@technova.com', 'phone': '+91-9988776655'}}]}]\n"
     ]
    }
   ],
   "source": [
    "print(data[\"departments\"])"
   ]
  },
  {
   "cell_type": "code",
   "execution_count": 56,
   "id": "27698362",
   "metadata": {},
   "outputs": [
    {
     "name": "stdout",
     "output_type": "stream",
     "text": [
      "<class 'list'>\n"
     ]
    }
   ],
   "source": [
    "print(type(data[\"departments\"]))"
   ]
  },
  {
   "cell_type": "code",
   "execution_count": 58,
   "id": "c1ef4aa9",
   "metadata": {},
   "outputs": [
    {
     "name": "stdout",
     "output_type": "stream",
     "text": [
      "0\n",
      "1\n"
     ]
    }
   ],
   "source": [
    "for key in range(len(data[\"departments\"])):\n",
    "    print(key)"
   ]
  },
  {
   "cell_type": "code",
   "execution_count": null,
   "id": "c0161135",
   "metadata": {},
   "outputs": [],
   "source": []
  }
 ],
 "metadata": {
  "kernelspec": {
   "display_name": "Python 3",
   "language": "python",
   "name": "python3"
  },
  "language_info": {
   "codemirror_mode": {
    "name": "ipython",
    "version": 3
   },
   "file_extension": ".py",
   "mimetype": "text/x-python",
   "name": "python",
   "nbconvert_exporter": "python",
   "pygments_lexer": "ipython3",
   "version": "3.8.0"
  }
 },
 "nbformat": 4,
 "nbformat_minor": 5
}
