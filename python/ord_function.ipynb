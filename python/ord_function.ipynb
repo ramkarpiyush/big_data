{
 "cells": [
  {
   "cell_type": "markdown",
   "id": "9c9abe62",
   "metadata": {},
   "source": [
    "# ord():\n",
    "- The ord() function in Python returns the Unicode code point (integer value) of a single character.\n",
    "- Syntax:\n",
    "    ord(character)\n",
    "    where, \n",
    "    character: A single character (string of length 1)\n",
    "\n",
    "- ord() gets the code from a character\n",
    "- chr() gets the character from a code"
   ]
  },
  {
   "cell_type": "code",
   "execution_count": 3,
   "id": "039272a1",
   "metadata": {},
   "outputs": [
    {
     "name": "stdout",
     "output_type": "stream",
     "text": [
      "65\n",
      "90\n"
     ]
    }
   ],
   "source": [
    "print(ord(\"A\"))\n",
    "print(ord(\"Z\"))"
   ]
  },
  {
   "cell_type": "code",
   "execution_count": 10,
   "id": "7a8df939",
   "metadata": {},
   "outputs": [
    {
     "data": {
      "text/plain": [
       "{'~': 126,\n",
       " '!': 33,\n",
       " '@': 64,\n",
       " '#': 35,\n",
       " '$': 36,\n",
       " '%': 37,\n",
       " '^': 94,\n",
       " '&': 38,\n",
       " '*': 42,\n",
       " '(': 40,\n",
       " ')': 41,\n",
       " '_': 95,\n",
       " '+': 43,\n",
       " '`': 96,\n",
       " '1': 49,\n",
       " '2': 50,\n",
       " '3': 51,\n",
       " '4': 52,\n",
       " '5': 53,\n",
       " '6': 54,\n",
       " '7': 55,\n",
       " '8': 56,\n",
       " '9': 57,\n",
       " '0': 48,\n",
       " '-': 45,\n",
       " '=': 61}"
      ]
     },
     "execution_count": 10,
     "metadata": {},
     "output_type": "execute_result"
    }
   ],
   "source": [
    "list = [\"~\", \"!\", \"@\", \"#\", \"$\", \"%\", \"^\", \"&\", \"*\", \"(\", \")\", \"_\", \"+\", \"`\", \"1\", \"2\", \"3\", \"4\", \"5\", \"6\", \"7\", \"8\", \"9\", \"0\", \"-\", \"=\"]\n",
    "\n",
    "list_dict = {}\n",
    "\n",
    "for i in list:\n",
    "    list_dict[i] = ord(i)\n",
    "\n",
    "list_dict"
   ]
  },
  {
   "cell_type": "code",
   "execution_count": 5,
   "id": "aa545659",
   "metadata": {},
   "outputs": [
    {
     "name": "stdout",
     "output_type": "stream",
     "text": [
      "97\n",
      "122\n"
     ]
    }
   ],
   "source": [
    "print(ord(\"a\"))\n",
    "print(ord(\"z\"))"
   ]
  },
  {
   "cell_type": "code",
   "execution_count": null,
   "id": "5768d7ff",
   "metadata": {},
   "outputs": [],
   "source": []
  }
 ],
 "metadata": {
  "kernelspec": {
   "display_name": "Python 3",
   "language": "python",
   "name": "python3"
  },
  "language_info": {
   "codemirror_mode": {
    "name": "ipython",
    "version": 3
   },
   "file_extension": ".py",
   "mimetype": "text/x-python",
   "name": "python",
   "nbconvert_exporter": "python",
   "pygments_lexer": "ipython3",
   "version": "3.8.0"
  }
 },
 "nbformat": 4,
 "nbformat_minor": 5
}
