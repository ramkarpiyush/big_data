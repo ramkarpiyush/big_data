{
 "cells": [
  {
   "cell_type": "code",
   "execution_count": 11,
   "id": "3caecfe4",
   "metadata": {},
   "outputs": [
    {
     "name": "stdout",
     "output_type": "stream",
     "text": [
      "+-----+----+----+\n",
      "| some|colu|name|\n",
      "+-----+----+----+\n",
      "|Hello|null|   1|\n",
      "+-----+----+----+\n",
      "\n",
      "root\n",
      " |-- some: string (nullable = true)\n",
      " |-- colu: string (nullable = true)\n",
      " |-- name: long (nullable = false)\n",
      "\n"
     ]
    }
   ],
   "source": [
    "from pyspark.sql.types import StructType, StructField, StringType, LongType\n",
    "from pyspark.sql import Row\n",
    "from pyspark.sql import SparkSession\n",
    "\n",
    "spark = SparkSession.builder.master(\"local[*]\").appName(\"5 Basic Structured Operations\").getOrCreate()\n",
    "\n",
    "my_schema = StructType([\n",
    "    StructField(\"some\", StringType(), True),\n",
    "    StructField(\"colu\", StringType(), True),\n",
    "    StructField(\"name\", LongType(), False)\n",
    "    ])\n",
    "\n",
    "my_row = Row(\"Hello\", None, 1)\n",
    "\n",
    "my_df = spark.createDataFrame([my_row], my_schema)\n",
    "\n",
    "my_df.show()\n",
    "my_df.printSchema()"
   ]
  },
  {
   "cell_type": "code",
   "execution_count": null,
   "id": "b89cfc7f",
   "metadata": {},
   "outputs": [],
   "source": [
    "# Read data:\n",
    "from pyspark.sql import SparkSession\n",
    "spark = SparkSession.builder.master(\"local[*]\").appName(\"5 Basic Structured Operations\").getOrCreate()\n",
    "df = spark.read.format(\"json\").load(\"D:\\\\GitLocal\\\\Spark-The-Definitive-Guide\\\\data\\\\flight-data\\\\json\\\\2015-summary.json\")\n",
    "#df.show()\n",
    "\n",
    "# Schema enforcement:\n",
    "from pyspark.sql.types import StructType, StructField, StringType, LongType\n",
    "my_manual_schema = StructType([\n",
    "    StructField(\"DEST_COUNTRY_NAME\", StringType(), True),\n",
    "    StructField(\"ORIGIN_COUNTRY_NAME\", StringType(), True),\n",
    "    StructField(\"count\", LongType(), False, metadata={\"hello\":\"world\"})\n",
    "])\n",
    "\n",
    "\n",
    "df = spark.read.format(\"json\").schema(my_manual_schema).load(\"D:\\\\GitLocal\\\\Spark-The-Definitive-Guide\\\\data\\\\flight-data\\\\json\\\\2015-summary.json\")\n",
    "df.show()\n",
    "df.printSchema()\n"
   ]
  },
  {
   "cell_type": "code",
   "execution_count": 15,
   "id": "eefe0a17",
   "metadata": {},
   "outputs": [
    {
     "name": "stdout",
     "output_type": "stream",
     "text": [
      "+--------------------+\n",
      "|   DEST_COUNTRY_NAME|\n",
      "+--------------------+\n",
      "|       United States|\n",
      "|       United States|\n",
      "|       United States|\n",
      "|               Egypt|\n",
      "|       United States|\n",
      "|       United States|\n",
      "|       United States|\n",
      "|          Costa Rica|\n",
      "|             Senegal|\n",
      "|             Moldova|\n",
      "|       United States|\n",
      "|       United States|\n",
      "|              Guyana|\n",
      "|               Malta|\n",
      "|            Anguilla|\n",
      "|             Bolivia|\n",
      "|       United States|\n",
      "|             Algeria|\n",
      "|Turks and Caicos ...|\n",
      "|       United States|\n",
      "+--------------------+\n",
      "only showing top 20 rows\n",
      "\n"
     ]
    }
   ],
   "source": [
    "from pyspark.sql.functions import col, expr, column\n",
    "df.select(expr(\"DEST_COUNTRY_NAME as destination\").alias(\"DEST_COUNTRY_NAME\")).show()"
   ]
  },
  {
   "cell_type": "code",
   "execution_count": 16,
   "id": "5817b1d1",
   "metadata": {},
   "outputs": [
    {
     "name": "stdout",
     "output_type": "stream",
     "text": [
      "+-----------------+-------------------+-----+--------------+\n",
      "|DEST_COUNTRY_NAME|ORIGIN_COUNTRY_NAME|count|within_country|\n",
      "+-----------------+-------------------+-----+--------------+\n",
      "|    United States|            Romania|   15|         false|\n",
      "|    United States|            Croatia|    1|         false|\n",
      "|    United States|            Ireland|  344|         false|\n",
      "+-----------------+-------------------+-----+--------------+\n",
      "only showing top 3 rows\n",
      "\n"
     ]
    }
   ],
   "source": [
    "df.selectExpr(\n",
    "    \"*\", \"(DEST_COUNTRY_NAME = ORIGIN_COUNTRY_NAME) as within_country\").show(3)"
   ]
  }
 ],
 "metadata": {
  "kernelspec": {
   "display_name": "Python 3",
   "language": "python",
   "name": "python3"
  },
  "language_info": {
   "codemirror_mode": {
    "name": "ipython",
    "version": 3
   },
   "file_extension": ".py",
   "mimetype": "text/x-python",
   "name": "python",
   "nbconvert_exporter": "python",
   "pygments_lexer": "ipython3",
   "version": "3.8.0"
  }
 },
 "nbformat": 4,
 "nbformat_minor": 5
}
