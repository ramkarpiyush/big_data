{
 "cells": [
  {
   "cell_type": "code",
   "execution_count": 0,
   "metadata": {
    "application/vnd.databricks.v1+cell": {
     "cellMetadata": {
      "byteLimit": 2048000,
      "rowLimit": 10000
     },
     "inputWidgets": {},
     "nuid": "f7dbc7d1-50f1-4b83-bffa-1a67c4942e90",
     "showTitle": false,
     "tableResultSettingsMap": {},
     "title": ""
    }
   },
   "outputs": [
    {
     "output_type": "stream",
     "name": "stdout",
     "output_type": "stream",
     "text": [
      "Cloning into 'big_data'...\n"
     ]
    }
   ],
   "source": [
    "%sh\n",
    "git clone https://my_token@github.com/ramkarpiyush/big_data.git\n",
    "\n"
   ]
  },
  {
   "cell_type": "code",
   "execution_count": 0,
   "metadata": {
    "application/vnd.databricks.v1+cell": {
     "cellMetadata": {
      "byteLimit": 2048000,
      "rowLimit": 10000
     },
     "inputWidgets": {},
     "nuid": "2d0e4d99-4a33-4483-a72f-afa3274c6f9d",
     "showTitle": false,
     "tableResultSettingsMap": {},
     "title": ""
    }
   },
   "outputs": [
    {
     "output_type": "stream",
     "name": "stdout",
     "output_type": "stream",
     "text": [
      "/databricks/driver/big_data\n"
     ]
    }
   ],
   "source": [
    "cd big_data"
   ]
  },
  {
   "cell_type": "code",
   "execution_count": 0,
   "metadata": {
    "application/vnd.databricks.v1+cell": {
     "cellMetadata": {
      "byteLimit": 2048000,
      "rowLimit": 10000
     },
     "inputWidgets": {},
     "nuid": "31150c77-0c6d-4a70-bcfd-e6e05770a46a",
     "showTitle": false,
     "tableResultSettingsMap": {},
     "title": ""
    }
   },
   "outputs": [
    {
     "output_type": "stream",
     "name": "stdout",
     "output_type": "stream",
     "text": [
      "total 20\r\n-rw-r--r-- 1 root root    1 May 21 10:03 spark_notebook.ipynb\r\n-rw-r--r-- 1 root root   73 May 21 10:03 sample1.txt\r\n-rw-r--r-- 1 root root    1 May 21 10:03 sample.txt\r\ndrwxr-xr-x 2 root root 4096 May 21 10:03 \u001B[0m\u001B[01;34mmy_git\u001B[0m/\r\n-rw-r--r-- 1 root root    0 May 21 10:03 index.html\r\n-rw-r--r-- 1 root root   56 May 21 10:03 README.md\r\n"
     ]
    }
   ],
   "source": [
    "ls -lrt\n"
   ]
  },
  {
   "cell_type": "code",
   "execution_count": 0,
   "metadata": {
    "application/vnd.databricks.v1+cell": {
     "cellMetadata": {
      "byteLimit": 2048000,
      "rowLimit": 10000
     },
     "inputWidgets": {},
     "nuid": "0c0cd486-e4ef-4664-97d2-477725e51b1a",
     "showTitle": false,
     "tableResultSettingsMap": {},
     "title": ""
    }
   },
   "outputs": [],
   "source": [
    "cp spark_notebook.ipynb .git/"
   ]
  },
  {
   "cell_type": "code",
   "execution_count": 0,
   "metadata": {
    "application/vnd.databricks.v1+cell": {
     "cellMetadata": {
      "byteLimit": 2048000,
      "rowLimit": 10000
     },
     "inputWidgets": {},
     "nuid": "6209fd6d-39ae-4906-9b3a-f9f58d34be9a",
     "showTitle": false,
     "tableResultSettingsMap": {},
     "title": ""
    }
   },
   "outputs": [
    {
     "output_type": "stream",
     "name": "stdout",
     "output_type": "stream",
     "text": [
      "+-----+----+----+\n| some|colu|name|\n+-----+----+----+\n|Hello|null|   1|\n+-----+----+----+\n\n"
     ]
    }
   ],
   "source": [
    "from pyspark.sql.types import StructType, StructField, StringType, LongType\n",
    "from pyspark.sql import Row\n",
    "\n",
    "from pyspark.sql import SparkSession\n",
    "spark = SparkSession.builder.master(\"local[*]\").appName(\"5 Basic Structured Operations\").getOrCreate()\n",
    "\n",
    "my_schema = StructType([\n",
    "    StructField(\"some\", StringType(), True),\n",
    "    StructField(\"colu\", StringType(), True),\n",
    "    StructField(\"name\", LongType(), False)\n",
    "    ])\n",
    "\n",
    "my_row = Row(\"Hello\", None, 1)\n",
    "\n",
    "my_df = spark.createDataFrame([my_row], my_schema)\n",
    "my_df.show()"
   ]
  }
 ],
 "metadata": {
  "application/vnd.databricks.v1+notebook": {
   "computePreferences": null,
   "dashboards": [],
   "environmentMetadata": {
    "base_environment": "",
    "environment_version": "1"
   },
   "inputWidgetPreferences": null,
   "language": "python",
   "notebookMetadata": {
    "mostRecentlyExecutedCommandWithImplicitDF": {
     "commandId": 935518000926917,
     "dataframes": [
      "_sqldf"
     ]
    },
    "pythonIndentUnit": 4
   },
   "notebookName": "Chapter 5",
   "widgets": {}
  }
 },
 "nbformat": 4,
 "nbformat_minor": 0
}